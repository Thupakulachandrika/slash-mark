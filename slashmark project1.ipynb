{
 "cells": [
  {
   "cell_type": "code",
   "execution_count": 1,
   "id": "51d33649",
   "metadata": {},
   "outputs": [
    {
     "name": "stdout",
     "output_type": "stream",
     "text": [
      "Task \"Complete project\" added with priority 2.\n",
      "Task \"Review documentation\" added with priority 1.\n",
      "Tasks:\n",
      "1. Complete project (Priority: 2)\n",
      "2. Review documentation (Priority: 1)\n",
      "Task \"Complete project\" prioritized to 1.\n",
      "Tasks:\n",
      "1. Complete project (Priority: 1)\n",
      "2. Review documentation (Priority: 1)\n",
      "Recommended Task: \"Complete project\" (Priority: 1)\n",
      "Task \"Review documentation\" removed.\n",
      "Tasks:\n",
      "1. Complete project (Priority: 1)\n"
     ]
    }
   ],
   "source": [
    "tasks = []\n",
    "\n",
    "def add_task(description, priority=1):\n",
    "    tasks.append({'description': description, 'priority': priority})\n",
    "    print(f'Task \"{description}\" added with priority {priority}.')\n",
    "\n",
    "def remove_task(description):\n",
    "    for task in tasks:\n",
    "        if task['description'] == description:\n",
    "            tasks.remove(task)\n",
    "            print(f'Task \"{description}\" removed.')\n",
    "            return\n",
    "    print(f'Task \"{description}\" not found.')\n",
    "\n",
    "def list_tasks():\n",
    "    if not tasks:\n",
    "        print('No tasks available.')\n",
    "    else:\n",
    "        print('Tasks:')\n",
    "        for index, task in enumerate(tasks, start=1):\n",
    "            print(f'{index}. {task[\"description\"]} (Priority: {task[\"priority\"]})')\n",
    "\n",
    "def prioritize_task(description, new_priority):\n",
    "    for task in tasks:\n",
    "        if task['description'] == description:\n",
    "            task['priority'] = new_priority\n",
    "            print(f'Task \"{description}\" prioritized to {new_priority}.')\n",
    "            return\n",
    "    print(f'Task \"{description}\" not found.')\n",
    "\n",
    "def recommend_task():\n",
    "    if not tasks:\n",
    "        print('No tasks available for recommendations.')\n",
    "    else:\n",
    "        recommended_task = min(tasks, key=lambda x: x['priority'])\n",
    "        print(f'Recommended Task: \"{recommended_task[\"description\"]}\" (Priority: {recommended_task[\"priority\"]})')\n",
    "# Example usage:\n",
    "add_task('Complete project', 2)\n",
    "add_task('Review documentation', 1)\n",
    "list_tasks()\n",
    "prioritize_task('Complete project', 1)\n",
    "list_tasks()\n",
    "recommend_task()\n",
    "remove_task('Review documentation')\n",
    "list_tasks()\n",
    "\n",
    "\n"
   ]
  },
  {
   "cell_type": "code",
   "execution_count": null,
   "id": "a332508e",
   "metadata": {},
   "outputs": [],
   "source": []
  }
 ],
 "metadata": {
  "kernelspec": {
   "display_name": "Python 3 (ipykernel)",
   "language": "python",
   "name": "python3"
  },
  "language_info": {
   "codemirror_mode": {
    "name": "ipython",
    "version": 3
   },
   "file_extension": ".py",
   "mimetype": "text/x-python",
   "name": "python",
   "nbconvert_exporter": "python",
   "pygments_lexer": "ipython3",
   "version": "3.10.9"
  }
 },
 "nbformat": 4,
 "nbformat_minor": 5
}
