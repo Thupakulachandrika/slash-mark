{
 "cells": [
  {
   "cell_type": "code",
   "execution_count": 1,
   "id": "5c391b87",
   "metadata": {},
   "outputs": [],
   "source": [
    "import numpy as np\n",
    "import pandas as pd"
   ]
  },
  {
   "cell_type": "code",
   "execution_count": 2,
   "id": "179a1a12",
   "metadata": {},
   "outputs": [],
   "source": [
    "from typing import List, Dict"
   ]
  },
  {
   "cell_type": "code",
   "execution_count": 3,
   "id": "70254dc9",
   "metadata": {},
   "outputs": [],
   "source": [
    "from sklearn.feature_extraction.text import TfidfVectorizer\n",
    "from sklearn.metrics.pairwise import cosine_similarity"
   ]
  },
  {
   "cell_type": "code",
   "execution_count": 4,
   "id": "94350b86",
   "metadata": {},
   "outputs": [
    {
     "data": {
      "text/html": [
       "<div>\n",
       "<style scoped>\n",
       "    .dataframe tbody tr th:only-of-type {\n",
       "        vertical-align: middle;\n",
       "    }\n",
       "\n",
       "    .dataframe tbody tr th {\n",
       "        vertical-align: top;\n",
       "    }\n",
       "\n",
       "    .dataframe thead th {\n",
       "        text-align: right;\n",
       "    }\n",
       "</style>\n",
       "<table border=\"1\" class=\"dataframe\">\n",
       "  <thead>\n",
       "    <tr style=\"text-align: right;\">\n",
       "      <th></th>\n",
       "      <th>artist</th>\n",
       "      <th>song</th>\n",
       "      <th>link</th>\n",
       "      <th>text</th>\n",
       "    </tr>\n",
       "  </thead>\n",
       "  <tbody>\n",
       "    <tr>\n",
       "      <th>0</th>\n",
       "      <td>ABBA</td>\n",
       "      <td>Ahe's My Kind Of Girl</td>\n",
       "      <td>/a/abba/ahes+my+kind+of+girl_20598417.html</td>\n",
       "      <td>Look at her face, it's a wonderful face  \\nAnd...</td>\n",
       "    </tr>\n",
       "    <tr>\n",
       "      <th>1</th>\n",
       "      <td>ABBA</td>\n",
       "      <td>Andante, Andante</td>\n",
       "      <td>/a/abba/andante+andante_20002708.html</td>\n",
       "      <td>Take it easy with me, please  \\nTouch me gentl...</td>\n",
       "    </tr>\n",
       "    <tr>\n",
       "      <th>2</th>\n",
       "      <td>ABBA</td>\n",
       "      <td>As Good As New</td>\n",
       "      <td>/a/abba/as+good+as+new_20003033.html</td>\n",
       "      <td>I'll never know why I had to go  \\nWhy I had t...</td>\n",
       "    </tr>\n",
       "    <tr>\n",
       "      <th>3</th>\n",
       "      <td>ABBA</td>\n",
       "      <td>Bang</td>\n",
       "      <td>/a/abba/bang_20598415.html</td>\n",
       "      <td>Making somebody happy is a question of give an...</td>\n",
       "    </tr>\n",
       "    <tr>\n",
       "      <th>4</th>\n",
       "      <td>ABBA</td>\n",
       "      <td>Bang-A-Boomerang</td>\n",
       "      <td>/a/abba/bang+a+boomerang_20002668.html</td>\n",
       "      <td>Making somebody happy is a question of give an...</td>\n",
       "    </tr>\n",
       "  </tbody>\n",
       "</table>\n",
       "</div>"
      ],
      "text/plain": [
       "  artist                   song                                        link  \\\n",
       "0   ABBA  Ahe's My Kind Of Girl  /a/abba/ahes+my+kind+of+girl_20598417.html   \n",
       "1   ABBA       Andante, Andante       /a/abba/andante+andante_20002708.html   \n",
       "2   ABBA         As Good As New        /a/abba/as+good+as+new_20003033.html   \n",
       "3   ABBA                   Bang                  /a/abba/bang_20598415.html   \n",
       "4   ABBA       Bang-A-Boomerang      /a/abba/bang+a+boomerang_20002668.html   \n",
       "\n",
       "                                                text  \n",
       "0  Look at her face, it's a wonderful face  \\nAnd...  \n",
       "1  Take it easy with me, please  \\nTouch me gentl...  \n",
       "2  I'll never know why I had to go  \\nWhy I had t...  \n",
       "3  Making somebody happy is a question of give an...  \n",
       "4  Making somebody happy is a question of give an...  "
      ]
     },
     "execution_count": 4,
     "metadata": {},
     "output_type": "execute_result"
    }
   ],
   "source": [
    "songs = pd.read_csv('music.csv')\n",
    "songs.head()"
   ]
  },
  {
   "cell_type": "code",
   "execution_count": 5,
   "id": "a76224a1",
   "metadata": {},
   "outputs": [],
   "source": [
    "songs = songs.sample(n=5000).drop('link', axis=1).reset_index(drop=True)"
   ]
  },
  {
   "cell_type": "code",
   "execution_count": 6,
   "id": "f954d44c",
   "metadata": {},
   "outputs": [
    {
     "name": "stderr",
     "output_type": "stream",
     "text": [
      "C:\\Users\\chandrikathupakula\\AppData\\Local\\Temp\\ipykernel_17208\\269676193.py:1: FutureWarning: The default value of regex will change from True to False in a future version.\n",
      "  songs['text'] = songs['text'].str.replace(r'\\n', '')\n"
     ]
    }
   ],
   "source": [
    "songs['text'] = songs['text'].str.replace(r'\\n', '')"
   ]
  },
  {
   "cell_type": "code",
   "execution_count": 7,
   "id": "bbb1a9b2",
   "metadata": {},
   "outputs": [],
   "source": [
    "tfidf = TfidfVectorizer(analyzer='word', stop_words='english')"
   ]
  },
  {
   "cell_type": "code",
   "execution_count": 8,
   "id": "06ae5cd1",
   "metadata": {},
   "outputs": [],
   "source": [
    "lyrics_matrix = tfidf.fit_transform(songs['text'])"
   ]
  },
  {
   "cell_type": "code",
   "execution_count": 9,
   "id": "2d90dd4e",
   "metadata": {},
   "outputs": [],
   "source": [
    "cosine_similarities = cosine_similarity(lyrics_matrix) "
   ]
  },
  {
   "cell_type": "code",
   "execution_count": 10,
   "id": "43d8d4b0",
   "metadata": {},
   "outputs": [],
   "source": [
    "similarities = {}\n",
    "for i in range(len(cosine_similarities)):\n",
    "    # Now we'll sort each element in cosine_similarities and get the indexes of the songs. \n",
    "    similar_indices = cosine_similarities[i].argsort()[:-50:-1] \n",
    "    # After that, we'll store in similarities each name of the 50 most similar songs.\n",
    "    # Except the first one that is the same song.\n",
    "    similarities[songs['song'].iloc[i]] = [(cosine_similarities[i][x], songs['song'][x], songs['artist'][x]) for x in similar_indices][1:]"
   ]
  },
  {
   "cell_type": "code",
   "execution_count": 11,
   "id": "52a28c8d",
   "metadata": {},
   "outputs": [],
   "source": [
    "class ContentBasedRecommender:\n",
    "    def __init__(self, matrix):\n",
    "        self.matrix_similar = matrix\n",
    "\n",
    "    def _print_message(self, song, recom_song):\n",
    "        rec_items = len(recom_song)\n",
    "        \n",
    "        print(f'The {rec_items} recommended songs for {song} are:')\n",
    "        for i in range(rec_items):\n",
    "            print(f\"Number {i+1}:\")\n",
    "            print(f\"{recom_song[i][1]} by {recom_song[i][2]} with {round(recom_song[i][0], 3)} similarity score\") \n",
    "            print(\"--------------------\")\n",
    "        \n",
    "    def recommend(self, recommendation):\n",
    "        # Get song to find recommendations for\n",
    "        song = recommendation['song']\n",
    "        # Get number of songs to recommend\n",
    "        number_songs = recommendation['number_songs']\n",
    "        # Get the number of songs most similars from matrix similarities\n",
    "        recom_song = self.matrix_similar[song][:number_songs]\n",
    "        # print each item\n",
    "        self._print_message(song=song, recom_song=recom_song)"
   ]
  },
  {
   "cell_type": "code",
   "execution_count": 12,
   "id": "ce0845b3",
   "metadata": {},
   "outputs": [],
   "source": [
    "recommedations = ContentBasedRecommender(similarities)"
   ]
  },
  {
   "cell_type": "code",
   "execution_count": 15,
   "id": "7d49e231",
   "metadata": {},
   "outputs": [
    {
     "name": "stdout",
     "output_type": "stream",
     "text": [
      "The 5 recommended songs for The Cramper are:\n",
      "Number 1:\n",
      "Can I Have It Like That by Pharrell Williams with 0.166 similarity score\n",
      "--------------------\n",
      "Number 2:\n",
      "Party by Usher with 0.166 similarity score\n",
      "--------------------\n",
      "Number 3:\n",
      "Look Like That by Violent Femmes with 0.152 similarity score\n",
      "--------------------\n",
      "Number 4:\n",
      "Drop The World by Lil Wayne with 0.139 similarity score\n",
      "--------------------\n",
      "Number 5:\n",
      "Hooker by P!nk with 0.136 similarity score\n",
      "--------------------\n"
     ]
    }
   ],
   "source": [
    "recommendation = {\n",
    "    \"song\": songs['song'].iloc[20],\n",
    "    \"number_songs\": 5 \n",
    "}\n",
    "recommedations.recommend(recommendation)"
   ]
  },
  {
   "cell_type": "code",
   "execution_count": 16,
   "id": "b8c10877",
   "metadata": {},
   "outputs": [
    {
     "name": "stdout",
     "output_type": "stream",
     "text": [
      "The 10 recommended songs for Always are:\n",
      "Number 1:\n",
      "Just Another Day by Natalie Imbruglia with 0.319 similarity score\n",
      "--------------------\n",
      "Number 2:\n",
      "This Year by Christina Aguilera with 0.31 similarity score\n",
      "--------------------\n",
      "Number 3:\n",
      "Better Days by Chaka Khan with 0.271 similarity score\n",
      "--------------------\n",
      "Number 4:\n",
      "Breathe by Lenny Kravitz with 0.265 similarity score\n",
      "--------------------\n",
      "Number 5:\n",
      "All In Love Is Fair by Barbra Streisand with 0.249 similarity score\n",
      "--------------------\n",
      "Number 6:\n",
      "The Day We Fall In Love by The Monkees with 0.247 similarity score\n",
      "--------------------\n",
      "Number 7:\n",
      "Tuesday Morning by Everlast with 0.232 similarity score\n",
      "--------------------\n",
      "Number 8:\n",
      "Loving You by Jennifer Lopez with 0.218 similarity score\n",
      "--------------------\n",
      "Number 9:\n",
      "A Little Lovin by Neil Sedaka with 0.215 similarity score\n",
      "--------------------\n",
      "Number 10:\n",
      "Just For You by Quarterflash with 0.212 similarity score\n",
      "--------------------\n"
     ]
    }
   ],
   "source": [
    "recommendation2 = {\n",
    "    \"song\": songs['song'].iloc[200],\n",
    "    \"number_songs\": 10\n",
    "}\n",
    "recommedations.recommend(recommendation2)"
   ]
  },
  {
   "cell_type": "code",
   "execution_count": 17,
   "id": "ac0f6adc",
   "metadata": {},
   "outputs": [
    {
     "name": "stdout",
     "output_type": "stream",
     "text": [
      "The 20 recommended songs for Today are:\n",
      "Number 1:\n",
      "No Day But Today by Idina Menzel with 0.476 similarity score\n",
      "--------------------\n",
      "Number 2:\n",
      "Living For Tomorrow by Scorpions with 0.317 similarity score\n",
      "--------------------\n",
      "Number 3:\n",
      "If This Is It by Our Lady Peace with 0.313 similarity score\n",
      "--------------------\n",
      "Number 4:\n",
      "Time Has Come Today by Ramones with 0.255 similarity score\n",
      "--------------------\n",
      "Number 5:\n",
      "Just Not Today by Kenny Chesney with 0.249 similarity score\n",
      "--------------------\n",
      "Number 6:\n",
      "Anything Goes by Ella Fitzgerald with 0.243 similarity score\n",
      "--------------------\n",
      "Number 7:\n",
      "My First Day Without You by Wanda Jackson with 0.242 similarity score\n",
      "--------------------\n",
      "Number 8:\n",
      "More by Andy Williams with 0.23 similarity score\n",
      "--------------------\n",
      "Number 9:\n",
      "Polished Stone by Blur with 0.224 similarity score\n",
      "--------------------\n",
      "Number 10:\n",
      "Here Today by Beach Boys with 0.22 similarity score\n",
      "--------------------\n",
      "Number 11:\n",
      "Baby Let's Rock! by Zwan with 0.218 similarity score\n",
      "--------------------\n",
      "Number 12:\n",
      "Numb by Sia with 0.215 similarity score\n",
      "--------------------\n",
      "Number 13:\n",
      "Turn Around by Whiskeytown with 0.203 similarity score\n",
      "--------------------\n",
      "Number 14:\n",
      "Children Of The Grave by Black Sabbath with 0.198 similarity score\n",
      "--------------------\n",
      "Number 15:\n",
      "I Don't Know Why by Starship with 0.181 similarity score\n",
      "--------------------\n",
      "Number 16:\n",
      "If I Could Turn Back The Hands Of Time by R. Kelly with 0.181 similarity score\n",
      "--------------------\n",
      "Number 17:\n",
      "The New Disease by Everclear with 0.18 similarity score\n",
      "--------------------\n",
      "Number 18:\n",
      "There's No Tomorrow by Overkill with 0.18 similarity score\n",
      "--------------------\n",
      "Number 19:\n",
      "Liquor Store Blues by Bruno Mars with 0.174 similarity score\n",
      "--------------------\n",
      "Number 20:\n",
      "Falling Down by Oasis with 0.167 similarity score\n",
      "--------------------\n"
     ]
    }
   ],
   "source": [
    "recommendation3 = {\n",
    "    \"song\": songs['song'].iloc[250],\n",
    "    \"number_songs\": 20\n",
    "}\n",
    "recommedations.recommend(recommendation3)"
   ]
  },
  {
   "cell_type": "code",
   "execution_count": null,
   "id": "4866497e",
   "metadata": {},
   "outputs": [],
   "source": []
  }
 ],
 "metadata": {
  "kernelspec": {
   "display_name": "Python 3 (ipykernel)",
   "language": "python",
   "name": "python3"
  },
  "language_info": {
   "codemirror_mode": {
    "name": "ipython",
    "version": 3
   },
   "file_extension": ".py",
   "mimetype": "text/x-python",
   "name": "python",
   "nbconvert_exporter": "python",
   "pygments_lexer": "ipython3",
   "version": "3.10.9"
  }
 },
 "nbformat": 4,
 "nbformat_minor": 5
}
